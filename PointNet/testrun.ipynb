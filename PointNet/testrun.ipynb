{
 "metadata": {
  "language_info": {
   "codemirror_mode": {
    "name": "ipython",
    "version": 3
   },
   "file_extension": ".py",
   "mimetype": "text/x-python",
   "name": "python",
   "nbconvert_exporter": "python",
   "pygments_lexer": "ipython3",
   "version": "3.8.5-final"
  },
  "orig_nbformat": 2,
  "kernelspec": {
   "name": "python385jvsc74a57bd04c3c28452824ed9258af2b3528d5a8f7934ad729159966c7c86c15bebd14b194",
   "display_name": "Python 3.8.5 64-bit ('dlwithpy': conda)"
  }
 },
 "nbformat": 4,
 "nbformat_minor": 2,
 "cells": [
  {
   "cell_type": "code",
   "execution_count": 4,
   "metadata": {},
   "outputs": [],
   "source": [
    "import numpy as np\n",
    "import random"
   ]
  },
  {
   "cell_type": "code",
   "execution_count": 2,
   "metadata": {},
   "outputs": [
    {
     "output_type": "stream",
     "text": [
      "\u001b[0;31mType:\u001b[0m        module\n",
      "\u001b[0;31mString form:\u001b[0m <module 'numpy.linalg' from '/home/daryl-loyck/anaconda3/envs/dlwithpy/lib/python3.8/site-packages/numpy/linalg/__init__.py'>\n",
      "\u001b[0;31mFile:\u001b[0m        ~/anaconda3/envs/dlwithpy/lib/python3.8/site-packages/numpy/linalg/__init__.py\n",
      "\u001b[0;31mDocstring:\u001b[0m  \n",
      "``numpy.linalg``\n",
      "================\n",
      "\n",
      "The NumPy linear algebra functions rely on BLAS and LAPACK to provide efficient\n",
      "low level implementations of standard linear algebra algorithms. Those\n",
      "libraries may be provided by NumPy itself using C versions of a subset of their\n",
      "reference implementations but, when possible, highly optimized libraries that\n",
      "take advantage of specialized processor functionality are preferred. Examples\n",
      "of such libraries are OpenBLAS, MKL (TM), and ATLAS. Because those libraries\n",
      "are multithreaded and processor dependent, environmental variables and external\n",
      "packages such as threadpoolctl may be needed to control the number of threads\n",
      "or specify the processor architecture.\n",
      "\n",
      "- OpenBLAS: https://www.openblas.net/\n",
      "- threadpoolctl: https://github.com/joblib/threadpoolctl\n",
      "\n",
      "Please note that the most-used linear algebra functions in NumPy are present in\n",
      "the main ``numpy`` namespace rather than in ``numpy.linalg``.  There are:\n",
      "``dot``, ``vdot``, ``inner``, ``outer``, ``matmul``, ``tensordot``, ``einsum``,\n",
      "``einsum_path`` and ``kron``.\n",
      "\n",
      "Functions present in numpy.linalg are listed below.\n",
      "\n",
      "\n",
      "Matrix and vector products\n",
      "--------------------------\n",
      "\n",
      "   multi_dot\n",
      "   matrix_power\n",
      "\n",
      "Decompositions\n",
      "--------------\n",
      "\n",
      "   cholesky\n",
      "   qr\n",
      "   svd\n",
      "\n",
      "Matrix eigenvalues\n",
      "------------------\n",
      "\n",
      "   eig\n",
      "   eigh\n",
      "   eigvals\n",
      "   eigvalsh\n",
      "\n",
      "Norms and other numbers\n",
      "-----------------------\n",
      "\n",
      "   norm\n",
      "   cond\n",
      "   det\n",
      "   matrix_rank\n",
      "   slogdet\n",
      "\n",
      "Solving equations and inverting matrices\n",
      "----------------------------------------\n",
      "\n",
      "   solve\n",
      "   tensorsolve\n",
      "   lstsq\n",
      "   inv\n",
      "   pinv\n",
      "   tensorinv\n",
      "\n",
      "Exceptions\n",
      "----------\n",
      "\n",
      "   LinAlgError\n"
     ],
     "name": "stdout"
    }
   ],
   "source": [
    "np.linalg?"
   ]
  },
  {
   "cell_type": "code",
   "execution_count": 5,
   "metadata": {},
   "outputs": [
    {
     "output_type": "execute_result",
     "data": {
      "text/plain": [
       "0.05437689733047002"
      ]
     },
     "metadata": {},
     "execution_count": 5
    }
   ],
   "source": [
    "s = random.random()\n",
    "s"
   ]
  },
  {
   "cell_type": "code",
   "execution_count": null,
   "metadata": {},
   "outputs": [],
   "source": []
  }
 ]
}